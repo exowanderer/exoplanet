{
 "cells": [
  {
   "cell_type": "code",
   "execution_count": 1,
   "metadata": {},
   "outputs": [],
   "source": [
    "%matplotlib inline"
   ]
  },
  {
   "cell_type": "code",
   "execution_count": 2,
   "metadata": {},
   "outputs": [
    {
     "name": "stderr",
     "output_type": "stream",
     "text": [
      "WARNING (theano.tensor.blas): Using NumPy C-API based implementation for BLAS functions.\n"
     ]
    },
    {
     "name": "stdout",
     "output_type": "stream",
     "text": [
      "theano version: 1.0.4\n"
     ]
    },
    {
     "name": "stdout",
     "output_type": "stream",
     "text": [
      "pymc3 version: 3.7\n"
     ]
    },
    {
     "name": "stdout",
     "output_type": "stream",
     "text": [
      "exoplanet version: 0.1.7.dev0\n"
     ]
    }
   ],
   "source": [
    "%run notebook_setup"
   ]
  },
  {
   "cell_type": "code",
   "execution_count": 3,
   "metadata": {},
   "outputs": [
    {
     "name": "stderr",
     "output_type": "stream",
     "text": [
      "ERROR (theano.gof.opt): Optimization failure due to: constant_folding\n"
     ]
    },
    {
     "name": "stderr",
     "output_type": "stream",
     "text": [
      "ERROR (theano.gof.opt): node: LimbDarkOp(TensorConstant{[ 0.146912...01836403]}, TensorConstant{[[2.576827..6679e+00]]}, TensorConstant{(701, 1) of 0.1}, TensorConstant{[[4.208278..06230454]]})\n"
     ]
    },
    {
     "name": "stderr",
     "output_type": "stream",
     "text": [
      "ERROR (theano.gof.opt): TRACEBACK:\n"
     ]
    },
    {
     "name": "stderr",
     "output_type": "stream",
     "text": [
      "ERROR (theano.gof.opt): Traceback (most recent call last):\n",
      "  File \"/usr/share/miniconda/envs/exoplanet/lib/python3.7/site-packages/theano/gof/opt.py\", line 2034, in process_node\n",
      "    replacements = lopt.transform(node)\n",
      "  File \"/usr/share/miniconda/envs/exoplanet/lib/python3.7/site-packages/theano/tensor/opt.py\", line 6518, in constant_folding\n",
      "    required = thunk()\n",
      "  File \"/usr/share/miniconda/envs/exoplanet/lib/python3.7/site-packages/theano/gof/op.py\", line 862, in rval\n",
      "    thunk()\n",
      "  File \"/usr/share/miniconda/envs/exoplanet/lib/python3.7/site-packages/theano/gof/cc.py\", line 1739, in __call__\n",
      "    reraise(exc_type, exc_value, exc_trace)\n",
      "  File \"/usr/share/miniconda/envs/exoplanet/lib/python3.7/site-packages/six.py\", line 693, in reraise\n",
      "    raise value\n",
      "ValueError: dimension mismatch\n",
      "\n"
     ]
    },
    {
     "name": "stderr",
     "output_type": "stream",
     "text": [
      "ERROR (theano.gof.opt): Optimization failure due to: constant_folding\n"
     ]
    },
    {
     "name": "stderr",
     "output_type": "stream",
     "text": [
      "ERROR (theano.gof.opt): node: LimbDarkOp(TensorConstant{[ 0.146912...01836403]}, TensorConstant{[[2.576827..6679e+00]]}, TensorConstant{(701, 1) of 0.1}, TensorConstant{[[4.208278..06230454]]})\n"
     ]
    },
    {
     "name": "stderr",
     "output_type": "stream",
     "text": [
      "ERROR (theano.gof.opt): TRACEBACK:\n"
     ]
    },
    {
     "name": "stderr",
     "output_type": "stream",
     "text": [
      "ERROR (theano.gof.opt): Traceback (most recent call last):\n",
      "  File \"/usr/share/miniconda/envs/exoplanet/lib/python3.7/site-packages/theano/gof/opt.py\", line 2034, in process_node\n",
      "    replacements = lopt.transform(node)\n",
      "  File \"/usr/share/miniconda/envs/exoplanet/lib/python3.7/site-packages/theano/tensor/opt.py\", line 6518, in constant_folding\n",
      "    required = thunk()\n",
      "  File \"/usr/share/miniconda/envs/exoplanet/lib/python3.7/site-packages/theano/gof/op.py\", line 862, in rval\n",
      "    thunk()\n",
      "  File \"/usr/share/miniconda/envs/exoplanet/lib/python3.7/site-packages/theano/gof/cc.py\", line 1739, in __call__\n",
      "    reraise(exc_type, exc_value, exc_trace)\n",
      "  File \"/usr/share/miniconda/envs/exoplanet/lib/python3.7/site-packages/six.py\", line 693, in reraise\n",
      "    raise value\n",
      "ValueError: dimension mismatch\n",
      "\n"
     ]
    },
    {
     "name": "stderr",
     "output_type": "stream",
     "text": [
      "ERROR (theano.gof.opt): Optimization failure due to: constant_folding\n"
     ]
    },
    {
     "name": "stderr",
     "output_type": "stream",
     "text": [
      "ERROR (theano.gof.opt): node: LimbDarkOp(TensorConstant{[ 0.146912...01836403]}, TensorConstant{[[2.576827..6679e+00]]}, TensorConstant{(701, 1) of 0.1}, TensorConstant{[[4.208278..06230454]]})\n"
     ]
    },
    {
     "name": "stderr",
     "output_type": "stream",
     "text": [
      "ERROR (theano.gof.opt): TRACEBACK:\n"
     ]
    },
    {
     "name": "stderr",
     "output_type": "stream",
     "text": [
      "ERROR (theano.gof.opt): Traceback (most recent call last):\n",
      "  File \"/usr/share/miniconda/envs/exoplanet/lib/python3.7/site-packages/theano/gof/opt.py\", line 2034, in process_node\n",
      "    replacements = lopt.transform(node)\n",
      "  File \"/usr/share/miniconda/envs/exoplanet/lib/python3.7/site-packages/theano/tensor/opt.py\", line 6518, in constant_folding\n",
      "    required = thunk()\n",
      "  File \"/usr/share/miniconda/envs/exoplanet/lib/python3.7/site-packages/theano/gof/op.py\", line 862, in rval\n",
      "    thunk()\n",
      "  File \"/usr/share/miniconda/envs/exoplanet/lib/python3.7/site-packages/theano/gof/cc.py\", line 1739, in __call__\n",
      "    reraise(exc_type, exc_value, exc_trace)\n",
      "  File \"/usr/share/miniconda/envs/exoplanet/lib/python3.7/site-packages/six.py\", line 693, in reraise\n",
      "    raise value\n",
      "ValueError: dimension mismatch\n",
      "\n"
     ]
    },
    {
     "name": "stderr",
     "output_type": "stream",
     "text": [
      "ERROR (theano.gof.opt): Optimization failure due to: constant_folding\n"
     ]
    },
    {
     "name": "stderr",
     "output_type": "stream",
     "text": [
      "ERROR (theano.gof.opt): node: LimbDarkOp(TensorConstant{[ 0.146912...01836403]}, TensorConstant{[[2.576827..6679e+00]]}, TensorConstant{(701, 1) of 0.1}, TensorConstant{[[4.208278..06230454]]})\n"
     ]
    },
    {
     "name": "stderr",
     "output_type": "stream",
     "text": [
      "ERROR (theano.gof.opt): TRACEBACK:\n"
     ]
    },
    {
     "name": "stderr",
     "output_type": "stream",
     "text": [
      "ERROR (theano.gof.opt): Traceback (most recent call last):\n",
      "  File \"/usr/share/miniconda/envs/exoplanet/lib/python3.7/site-packages/theano/gof/opt.py\", line 2034, in process_node\n",
      "    replacements = lopt.transform(node)\n",
      "  File \"/usr/share/miniconda/envs/exoplanet/lib/python3.7/site-packages/theano/tensor/opt.py\", line 6518, in constant_folding\n",
      "    required = thunk()\n",
      "  File \"/usr/share/miniconda/envs/exoplanet/lib/python3.7/site-packages/theano/gof/op.py\", line 862, in rval\n",
      "    thunk()\n",
      "  File \"/usr/share/miniconda/envs/exoplanet/lib/python3.7/site-packages/theano/gof/cc.py\", line 1739, in __call__\n",
      "    reraise(exc_type, exc_value, exc_trace)\n",
      "  File \"/usr/share/miniconda/envs/exoplanet/lib/python3.7/site-packages/six.py\", line 693, in reraise\n",
      "    raise value\n",
      "ValueError: dimension mismatch\n",
      "\n"
     ]
    },
    {
     "name": "stderr",
     "output_type": "stream",
     "text": [
      "ERROR (theano.gof.opt): Optimization failure due to: constant_folding\n"
     ]
    },
    {
     "name": "stderr",
     "output_type": "stream",
     "text": [
      "ERROR (theano.gof.opt): node: LimbDarkOp(TensorConstant{[ 0.146912...01836403]}, TensorConstant{[[2.576827..6679e+00]]}, TensorConstant{(701, 1) of 0.1}, TensorConstant{[[4.208278..06230454]]})\n"
     ]
    },
    {
     "name": "stderr",
     "output_type": "stream",
     "text": [
      "ERROR (theano.gof.opt): TRACEBACK:\n"
     ]
    },
    {
     "name": "stderr",
     "output_type": "stream",
     "text": [
      "ERROR (theano.gof.opt): Traceback (most recent call last):\n",
      "  File \"/usr/share/miniconda/envs/exoplanet/lib/python3.7/site-packages/theano/gof/opt.py\", line 2034, in process_node\n",
      "    replacements = lopt.transform(node)\n",
      "  File \"/usr/share/miniconda/envs/exoplanet/lib/python3.7/site-packages/theano/tensor/opt.py\", line 6518, in constant_folding\n",
      "    required = thunk()\n",
      "  File \"/usr/share/miniconda/envs/exoplanet/lib/python3.7/site-packages/theano/gof/op.py\", line 862, in rval\n",
      "    thunk()\n",
      "  File \"/usr/share/miniconda/envs/exoplanet/lib/python3.7/site-packages/theano/gof/cc.py\", line 1739, in __call__\n",
      "    reraise(exc_type, exc_value, exc_trace)\n",
      "  File \"/usr/share/miniconda/envs/exoplanet/lib/python3.7/site-packages/six.py\", line 693, in reraise\n",
      "    raise value\n",
      "ValueError: dimension mismatch\n",
      "\n"
     ]
    },
    {
     "name": "stderr",
     "output_type": "stream",
     "text": [
      "ERROR (theano.gof.opt): Optimization failure due to: constant_folding\n"
     ]
    },
    {
     "name": "stderr",
     "output_type": "stream",
     "text": [
      "ERROR (theano.gof.opt): node: LimbDarkOp(TensorConstant{[ 0.146912...01836403]}, TensorConstant{[[2.576827..6679e+00]]}, TensorConstant{(701, 1) of 0.1}, TensorConstant{[[4.208278..06230454]]})\n"
     ]
    },
    {
     "name": "stderr",
     "output_type": "stream",
     "text": [
      "ERROR (theano.gof.opt): TRACEBACK:\n"
     ]
    },
    {
     "name": "stderr",
     "output_type": "stream",
     "text": [
      "ERROR (theano.gof.opt): Traceback (most recent call last):\n",
      "  File \"/usr/share/miniconda/envs/exoplanet/lib/python3.7/site-packages/theano/gof/opt.py\", line 2034, in process_node\n",
      "    replacements = lopt.transform(node)\n",
      "  File \"/usr/share/miniconda/envs/exoplanet/lib/python3.7/site-packages/theano/tensor/opt.py\", line 6518, in constant_folding\n",
      "    required = thunk()\n",
      "  File \"/usr/share/miniconda/envs/exoplanet/lib/python3.7/site-packages/theano/gof/op.py\", line 862, in rval\n",
      "    thunk()\n",
      "  File \"/usr/share/miniconda/envs/exoplanet/lib/python3.7/site-packages/theano/gof/cc.py\", line 1739, in __call__\n",
      "    reraise(exc_type, exc_value, exc_trace)\n",
      "  File \"/usr/share/miniconda/envs/exoplanet/lib/python3.7/site-packages/six.py\", line 693, in reraise\n",
      "    raise value\n",
      "ValueError: dimension mismatch\n",
      "\n"
     ]
    },
    {
     "ename": "ValueError",
     "evalue": "dimension mismatch\nApply node that caused the error: LimbDarkOp(TensorConstant{[ 0.146912...01836403]}, TensorConstant{[[2.576827..6679e+00]]}, TensorConstant{(701, 1) of 0.1}, TensorConstant{[[4.208278..06230454]]})\nToposort index: 0\nInputs types: [TensorType(float64, vector), TensorType(float64, matrix), TensorType(float64, matrix), TensorType(float64, matrix)]\nInputs shapes: [(3,), (701, 1), (701, 1), (701, 1)]\nInputs strides: [(8,), (8, 8), (8, 8), (8, 8)]\nInputs values: [array([ 0.14691226,  0.25709645, -0.01836403]), 'not shown', 'not shown', 'not shown']\nOutputs clients: [[AdvancedIncSubtensor1{no_inplace,set}(TensorConstant{(1000, 1) of 0.0}, LimbDarkOp.0, TensorConstant{[  0   1  ..8 699 700]})], [], [], []]\n\nBacktrace when the node is created(use Theano flag traceback.limit=N to make it longer):\n  File \"/usr/share/miniconda/envs/exoplanet/lib/python3.7/site-packages/IPython/core/interactiveshell.py\", line 3057, in run_cell_async\n    interactivity=interactivity, compiler=compiler, result=result)\n  File \"/usr/share/miniconda/envs/exoplanet/lib/python3.7/site-packages/IPython/core/interactiveshell.py\", line 3248, in run_ast_nodes\n    if (await self.run_code(code, result,  async_=asy)):\n  File \"/usr/share/miniconda/envs/exoplanet/lib/python3.7/site-packages/IPython/core/interactiveshell.py\", line 3325, in run_code\n    exec(code_obj, self.user_global_ns, self.user_ns)\n  File \"<ipython-input-3-1a431414464f>\", line 15, in <module>\n    orbit=orbit, r=0.1, t=t).eval()\n  File \"/usr/share/miniconda/envs/exoplanet/lib/python3.7/site-packages/exoplanet-0.1.7.dev0-py3.7.egg/exoplanet/light_curves.py\", line 138, in get_light_curve\n    b/orbit.r_star, rgrid/orbit.r_star, los/orbit.r_star)\n  File \"/usr/share/miniconda/envs/exoplanet/lib/python3.7/site-packages/exoplanet-0.1.7.dev0-py3.7.egg/exoplanet/light_curves.py\", line 167, in _compute_light_curve\n    return limbdark(self.c_norm, b, r, los)[0]\n  File \"/usr/share/miniconda/envs/exoplanet/lib/python3.7/site-packages/theano/gof/op.py\", line 615, in __call__\n    node = self.make_node(*inputs, **kwargs)\n  File \"/usr/share/miniconda/envs/exoplanet/lib/python3.7/site-packages/exoplanet-0.1.7.dev0-py3.7.egg/exoplanet/theano_ops/starry/limbdark.py\", line 33, in make_node\n    in_args[1].type(),\n\nHINT: Use the Theano flag 'exception_verbosity=high' for a debugprint and storage map footprint of this apply node.",
     "output_type": "error",
     "traceback": [
      "\u001b[0;31m---------------------------------------------------------------------------\u001b[0m",
      "\u001b[0;31mValueError\u001b[0m                                Traceback (most recent call last)",
      "\u001b[0;32m/usr/share/miniconda/envs/exoplanet/lib/python3.7/site-packages/theano/compile/function_module.py\u001b[0m in \u001b[0;36m__call__\u001b[0;34m(self, *args, **kwargs)\u001b[0m\n\u001b[1;32m    902\u001b[0m             \u001b[0moutputs\u001b[0m \u001b[0;34m=\u001b[0m\u001b[0;31m\\\u001b[0m\u001b[0;34m\u001b[0m\u001b[0;34m\u001b[0m\u001b[0m\n\u001b[0;32m--> 903\u001b[0;31m                 \u001b[0mself\u001b[0m\u001b[0;34m.\u001b[0m\u001b[0mfn\u001b[0m\u001b[0;34m(\u001b[0m\u001b[0;34m)\u001b[0m \u001b[0;32mif\u001b[0m \u001b[0moutput_subset\u001b[0m \u001b[0;32mis\u001b[0m \u001b[0;32mNone\u001b[0m \u001b[0;32melse\u001b[0m\u001b[0;31m\\\u001b[0m\u001b[0;34m\u001b[0m\u001b[0;34m\u001b[0m\u001b[0m\n\u001b[0m\u001b[1;32m    904\u001b[0m                 \u001b[0mself\u001b[0m\u001b[0;34m.\u001b[0m\u001b[0mfn\u001b[0m\u001b[0;34m(\u001b[0m\u001b[0moutput_subset\u001b[0m\u001b[0;34m=\u001b[0m\u001b[0moutput_subset\u001b[0m\u001b[0;34m)\u001b[0m\u001b[0;34m\u001b[0m\u001b[0;34m\u001b[0m\u001b[0m\n",
      "\u001b[0;31mValueError\u001b[0m: dimension mismatch",
      "\nDuring handling of the above exception, another exception occurred:\n",
      "\u001b[0;31mValueError\u001b[0m                                Traceback (most recent call last)",
      "\u001b[0;32m<ipython-input-3-1a431414464f>\u001b[0m in \u001b[0;36m<module>\u001b[0;34m\u001b[0m\n\u001b[1;32m     13\u001b[0m \u001b[0mstar\u001b[0m \u001b[0;34m=\u001b[0m \u001b[0mxo\u001b[0m\u001b[0;34m.\u001b[0m\u001b[0mStarryLightCurve\u001b[0m\u001b[0;34m(\u001b[0m\u001b[0mu\u001b[0m\u001b[0;34m)\u001b[0m\u001b[0;34m\u001b[0m\u001b[0;34m\u001b[0m\u001b[0m\n\u001b[1;32m     14\u001b[0m light_curve_instant = star.get_light_curve(\n\u001b[0;32m---> 15\u001b[0;31m     orbit=orbit, r=0.1, t=t).eval()\n\u001b[0m\u001b[1;32m     16\u001b[0m light_curve_exact = star.get_light_curve(\n\u001b[1;32m     17\u001b[0m     orbit=orbit, r=0.1, t=t, texp=texp, oversample=1000).eval()\n",
      "\u001b[0;32m/usr/share/miniconda/envs/exoplanet/lib/python3.7/site-packages/theano/gof/graph.py\u001b[0m in \u001b[0;36meval\u001b[0;34m(self, inputs_to_values)\u001b[0m\n\u001b[1;32m    523\u001b[0m         \u001b[0margs\u001b[0m \u001b[0;34m=\u001b[0m \u001b[0;34m[\u001b[0m\u001b[0minputs_to_values\u001b[0m\u001b[0;34m[\u001b[0m\u001b[0mparam\u001b[0m\u001b[0;34m]\u001b[0m \u001b[0;32mfor\u001b[0m \u001b[0mparam\u001b[0m \u001b[0;32min\u001b[0m \u001b[0minputs\u001b[0m\u001b[0;34m]\u001b[0m\u001b[0;34m\u001b[0m\u001b[0;34m\u001b[0m\u001b[0m\n\u001b[1;32m    524\u001b[0m \u001b[0;34m\u001b[0m\u001b[0m\n\u001b[0;32m--> 525\u001b[0;31m         \u001b[0mrval\u001b[0m \u001b[0;34m=\u001b[0m \u001b[0mself\u001b[0m\u001b[0;34m.\u001b[0m\u001b[0m_fn_cache\u001b[0m\u001b[0;34m[\u001b[0m\u001b[0minputs\u001b[0m\u001b[0;34m]\u001b[0m\u001b[0;34m(\u001b[0m\u001b[0;34m*\u001b[0m\u001b[0margs\u001b[0m\u001b[0;34m)\u001b[0m\u001b[0;34m\u001b[0m\u001b[0;34m\u001b[0m\u001b[0m\n\u001b[0m\u001b[1;32m    526\u001b[0m \u001b[0;34m\u001b[0m\u001b[0m\n\u001b[1;32m    527\u001b[0m         \u001b[0;32mreturn\u001b[0m \u001b[0mrval\u001b[0m\u001b[0;34m\u001b[0m\u001b[0;34m\u001b[0m\u001b[0m\n",
      "\u001b[0;32m/usr/share/miniconda/envs/exoplanet/lib/python3.7/site-packages/theano/compile/function_module.py\u001b[0m in \u001b[0;36m__call__\u001b[0;34m(self, *args, **kwargs)\u001b[0m\n\u001b[1;32m    915\u001b[0m                     \u001b[0mnode\u001b[0m\u001b[0;34m=\u001b[0m\u001b[0mself\u001b[0m\u001b[0;34m.\u001b[0m\u001b[0mfn\u001b[0m\u001b[0;34m.\u001b[0m\u001b[0mnodes\u001b[0m\u001b[0;34m[\u001b[0m\u001b[0mself\u001b[0m\u001b[0;34m.\u001b[0m\u001b[0mfn\u001b[0m\u001b[0;34m.\u001b[0m\u001b[0mposition_of_error\u001b[0m\u001b[0;34m]\u001b[0m\u001b[0;34m,\u001b[0m\u001b[0;34m\u001b[0m\u001b[0;34m\u001b[0m\u001b[0m\n\u001b[1;32m    916\u001b[0m                     \u001b[0mthunk\u001b[0m\u001b[0;34m=\u001b[0m\u001b[0mthunk\u001b[0m\u001b[0;34m,\u001b[0m\u001b[0;34m\u001b[0m\u001b[0;34m\u001b[0m\u001b[0m\n\u001b[0;32m--> 917\u001b[0;31m                     storage_map=getattr(self.fn, 'storage_map', None))\n\u001b[0m\u001b[1;32m    918\u001b[0m             \u001b[0;32melse\u001b[0m\u001b[0;34m:\u001b[0m\u001b[0;34m\u001b[0m\u001b[0;34m\u001b[0m\u001b[0m\n\u001b[1;32m    919\u001b[0m                 \u001b[0;31m# old-style linkers raise their own exceptions\u001b[0m\u001b[0;34m\u001b[0m\u001b[0;34m\u001b[0m\u001b[0;34m\u001b[0m\u001b[0m\n",
      "\u001b[0;32m/usr/share/miniconda/envs/exoplanet/lib/python3.7/site-packages/theano/gof/link.py\u001b[0m in \u001b[0;36mraise_with_op\u001b[0;34m(node, thunk, exc_info, storage_map)\u001b[0m\n\u001b[1;32m    323\u001b[0m         \u001b[0;31m# extra long error message in that case.\u001b[0m\u001b[0;34m\u001b[0m\u001b[0;34m\u001b[0m\u001b[0;34m\u001b[0m\u001b[0m\n\u001b[1;32m    324\u001b[0m         \u001b[0;32mpass\u001b[0m\u001b[0;34m\u001b[0m\u001b[0;34m\u001b[0m\u001b[0m\n\u001b[0;32m--> 325\u001b[0;31m     \u001b[0mreraise\u001b[0m\u001b[0;34m(\u001b[0m\u001b[0mexc_type\u001b[0m\u001b[0;34m,\u001b[0m \u001b[0mexc_value\u001b[0m\u001b[0;34m,\u001b[0m \u001b[0mexc_trace\u001b[0m\u001b[0;34m)\u001b[0m\u001b[0;34m\u001b[0m\u001b[0;34m\u001b[0m\u001b[0m\n\u001b[0m\u001b[1;32m    326\u001b[0m \u001b[0;34m\u001b[0m\u001b[0m\n\u001b[1;32m    327\u001b[0m \u001b[0;34m\u001b[0m\u001b[0m\n",
      "\u001b[0;32m/usr/share/miniconda/envs/exoplanet/lib/python3.7/site-packages/six.py\u001b[0m in \u001b[0;36mreraise\u001b[0;34m(tp, value, tb)\u001b[0m\n\u001b[1;32m    690\u001b[0m                 \u001b[0mvalue\u001b[0m \u001b[0;34m=\u001b[0m \u001b[0mtp\u001b[0m\u001b[0;34m(\u001b[0m\u001b[0;34m)\u001b[0m\u001b[0;34m\u001b[0m\u001b[0;34m\u001b[0m\u001b[0m\n\u001b[1;32m    691\u001b[0m             \u001b[0;32mif\u001b[0m \u001b[0mvalue\u001b[0m\u001b[0;34m.\u001b[0m\u001b[0m__traceback__\u001b[0m \u001b[0;32mis\u001b[0m \u001b[0;32mnot\u001b[0m \u001b[0mtb\u001b[0m\u001b[0;34m:\u001b[0m\u001b[0;34m\u001b[0m\u001b[0;34m\u001b[0m\u001b[0m\n\u001b[0;32m--> 692\u001b[0;31m                 \u001b[0;32mraise\u001b[0m \u001b[0mvalue\u001b[0m\u001b[0;34m.\u001b[0m\u001b[0mwith_traceback\u001b[0m\u001b[0;34m(\u001b[0m\u001b[0mtb\u001b[0m\u001b[0;34m)\u001b[0m\u001b[0;34m\u001b[0m\u001b[0;34m\u001b[0m\u001b[0m\n\u001b[0m\u001b[1;32m    693\u001b[0m             \u001b[0;32mraise\u001b[0m \u001b[0mvalue\u001b[0m\u001b[0;34m\u001b[0m\u001b[0;34m\u001b[0m\u001b[0m\n\u001b[1;32m    694\u001b[0m         \u001b[0;32mfinally\u001b[0m\u001b[0;34m:\u001b[0m\u001b[0;34m\u001b[0m\u001b[0;34m\u001b[0m\u001b[0m\n",
      "\u001b[0;32m/usr/share/miniconda/envs/exoplanet/lib/python3.7/site-packages/theano/compile/function_module.py\u001b[0m in \u001b[0;36m__call__\u001b[0;34m(self, *args, **kwargs)\u001b[0m\n\u001b[1;32m    901\u001b[0m         \u001b[0;32mtry\u001b[0m\u001b[0;34m:\u001b[0m\u001b[0;34m\u001b[0m\u001b[0;34m\u001b[0m\u001b[0m\n\u001b[1;32m    902\u001b[0m             \u001b[0moutputs\u001b[0m \u001b[0;34m=\u001b[0m\u001b[0;31m\\\u001b[0m\u001b[0;34m\u001b[0m\u001b[0;34m\u001b[0m\u001b[0m\n\u001b[0;32m--> 903\u001b[0;31m                 \u001b[0mself\u001b[0m\u001b[0;34m.\u001b[0m\u001b[0mfn\u001b[0m\u001b[0;34m(\u001b[0m\u001b[0;34m)\u001b[0m \u001b[0;32mif\u001b[0m \u001b[0moutput_subset\u001b[0m \u001b[0;32mis\u001b[0m \u001b[0;32mNone\u001b[0m \u001b[0;32melse\u001b[0m\u001b[0;31m\\\u001b[0m\u001b[0;34m\u001b[0m\u001b[0;34m\u001b[0m\u001b[0m\n\u001b[0m\u001b[1;32m    904\u001b[0m                 \u001b[0mself\u001b[0m\u001b[0;34m.\u001b[0m\u001b[0mfn\u001b[0m\u001b[0;34m(\u001b[0m\u001b[0moutput_subset\u001b[0m\u001b[0;34m=\u001b[0m\u001b[0moutput_subset\u001b[0m\u001b[0;34m)\u001b[0m\u001b[0;34m\u001b[0m\u001b[0;34m\u001b[0m\u001b[0m\n\u001b[1;32m    905\u001b[0m         \u001b[0;32mexcept\u001b[0m \u001b[0mException\u001b[0m\u001b[0;34m:\u001b[0m\u001b[0;34m\u001b[0m\u001b[0;34m\u001b[0m\u001b[0m\n",
      "\u001b[0;31mValueError\u001b[0m: dimension mismatch\nApply node that caused the error: LimbDarkOp(TensorConstant{[ 0.146912...01836403]}, TensorConstant{[[2.576827..6679e+00]]}, TensorConstant{(701, 1) of 0.1}, TensorConstant{[[4.208278..06230454]]})\nToposort index: 0\nInputs types: [TensorType(float64, vector), TensorType(float64, matrix), TensorType(float64, matrix), TensorType(float64, matrix)]\nInputs shapes: [(3,), (701, 1), (701, 1), (701, 1)]\nInputs strides: [(8,), (8, 8), (8, 8), (8, 8)]\nInputs values: [array([ 0.14691226,  0.25709645, -0.01836403]), 'not shown', 'not shown', 'not shown']\nOutputs clients: [[AdvancedIncSubtensor1{no_inplace,set}(TensorConstant{(1000, 1) of 0.0}, LimbDarkOp.0, TensorConstant{[  0   1  ..8 699 700]})], [], [], []]\n\nBacktrace when the node is created(use Theano flag traceback.limit=N to make it longer):\n  File \"/usr/share/miniconda/envs/exoplanet/lib/python3.7/site-packages/IPython/core/interactiveshell.py\", line 3057, in run_cell_async\n    interactivity=interactivity, compiler=compiler, result=result)\n  File \"/usr/share/miniconda/envs/exoplanet/lib/python3.7/site-packages/IPython/core/interactiveshell.py\", line 3248, in run_ast_nodes\n    if (await self.run_code(code, result,  async_=asy)):\n  File \"/usr/share/miniconda/envs/exoplanet/lib/python3.7/site-packages/IPython/core/interactiveshell.py\", line 3325, in run_code\n    exec(code_obj, self.user_global_ns, self.user_ns)\n  File \"<ipython-input-3-1a431414464f>\", line 15, in <module>\n    orbit=orbit, r=0.1, t=t).eval()\n  File \"/usr/share/miniconda/envs/exoplanet/lib/python3.7/site-packages/exoplanet-0.1.7.dev0-py3.7.egg/exoplanet/light_curves.py\", line 138, in get_light_curve\n    b/orbit.r_star, rgrid/orbit.r_star, los/orbit.r_star)\n  File \"/usr/share/miniconda/envs/exoplanet/lib/python3.7/site-packages/exoplanet-0.1.7.dev0-py3.7.egg/exoplanet/light_curves.py\", line 167, in _compute_light_curve\n    return limbdark(self.c_norm, b, r, los)[0]\n  File \"/usr/share/miniconda/envs/exoplanet/lib/python3.7/site-packages/theano/gof/op.py\", line 615, in __call__\n    node = self.make_node(*inputs, **kwargs)\n  File \"/usr/share/miniconda/envs/exoplanet/lib/python3.7/site-packages/exoplanet-0.1.7.dev0-py3.7.egg/exoplanet/theano_ops/starry/limbdark.py\", line 33, in make_node\n    in_args[1].type(),\n\nHINT: Use the Theano flag 'exception_verbosity=high' for a debugprint and storage map footprint of this apply node."
     ]
    }
   ],
   "source": [
    "import numpy as np\n",
    "import matplotlib.pyplot as plt\n",
    "\n",
    "import exoplanet as xo\n",
    "\n",
    "# The light curve calculation requires an orbit\n",
    "orbit = xo.orbits.KeplerianOrbit(period=1)\n",
    "\n",
    "# Compute a limb-darkened light curve using starry\n",
    "texp = 0.02\n",
    "t = np.linspace(0.0, 0.06, 1000)\n",
    "u = [0.3, 0.2]\n",
    "star = xo.StarryLightCurve(u)\n",
    "light_curve_instant = star.get_light_curve(\n",
    "    orbit=orbit, r=0.1, t=t).eval()\n",
    "light_curve_exact = star.get_light_curve(\n",
    "    orbit=orbit, r=0.1, t=t, texp=texp, oversample=1000).eval()\n",
    "\n",
    "fig, axes = plt.subplots(4, 1, figsize=(5, 10), sharex=True)\n",
    "\n",
    "ax = axes[0]\n",
    "ax.plot(t, light_curve_instant * 1e3, \":k\")\n",
    "ax.plot(t, light_curve_exact * 1e3, \"k\")\n",
    "ax.set_ylabel(\"relative flux [ppt]\")\n",
    "\n",
    "for n in [3, 7, 15, 51][::-1]:\n",
    "    for order in range(3):\n",
    "        ax = axes[order+1]\n",
    "        light_curve = star.get_light_curve(order=order,\n",
    "            orbit=orbit, r=0.1, t=t, texp=texp, oversample=n).eval()\n",
    "        ax.plot(t, np.log10(np.abs(light_curve - light_curve_exact)),\n",
    "                label=\"{0}\".format(n))\n",
    "        \n",
    "# integrated = xo.light_curves.LimbDarkLightCurve(u)\n",
    "# ax = axes[-1]\n",
    "# for tol in [-5, -4, -3, -2]:\n",
    "#     light_curve, num_eval = theano.function([], integrated.get_light_curve(\n",
    "#         orbit=orbit, r=0.1, t=t, texp=texp, tol=10**tol, return_num_eval=True))()\n",
    "#     print(tol, num_eval / len(t))\n",
    "#     ax.plot(t, np.log10(np.abs(light_curve - light_curve_exact)),\n",
    "#             label=\"$10^{{{0}}},\\,{1:.0f}$\".format(tol, num_eval/len(t)), zorder=-tol)\n",
    "        \n",
    "for i, ax in enumerate(axes[1:]):\n",
    "    if i <= 2:\n",
    "        ax.annotate(\"order = {0}\".format(i), (0, 1), xycoords=\"axes fraction\",\n",
    "                    ha=\"left\", va=\"top\",\n",
    "                    xytext=(5, -10), textcoords=\"offset points\",\n",
    "                    fontsize=10)\n",
    "    for loc, name in [(-3, \"ppt\"), (-6, \"ppm\"), (-9, \"ppb\")]:\n",
    "        ax.axhline(loc, color=\"k\", alpha=0.3, lw=1)\n",
    "        ax.annotate(name, (t.max(), loc), va=\"top\", ha=\"right\",\n",
    "                    xytext=(-3, -2), textcoords=\"offset points\",\n",
    "                    fontsize=10, alpha=0.3)\n",
    "    ax.set_ylim(-10.2, -2.7)\n",
    "    ax.set_ylabel(\"log$_{10}$(flux error)\")\n",
    "    ax.legend(fontsize=9, ncol=4, loc=3)\n",
    "\n",
    "ax.set_xlabel(\"time [days]\")\n",
    "ax.set_xlim(t.min(), t.max())\n",
    "fig.subplots_adjust(hspace=0.0);"
   ]
  },
  {
   "cell_type": "code",
   "execution_count": null,
   "metadata": {},
   "outputs": [],
   "source": []
  }
 ],
 "metadata": {
  "kernelspec": {
   "display_name": "Python 3",
   "language": "python",
   "name": "python3"
  },
  "language_info": {
   "codemirror_mode": {
    "name": "ipython",
    "version": 3
   },
   "file_extension": ".py",
   "mimetype": "text/x-python",
   "name": "python",
   "nbconvert_exporter": "python",
   "pygments_lexer": "ipython3",
   "version": "3.6.8"
  }
 },
 "nbformat": 4,
 "nbformat_minor": 2
}
